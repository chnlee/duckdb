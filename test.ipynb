{
 "cells": [
  {
   "cell_type": "code",
   "execution_count": 1,
   "id": "060bded4",
   "metadata": {},
   "outputs": [
    {
     "ename": "ModuleNotFoundError",
     "evalue": "No module named 'duckdb'",
     "output_type": "error",
     "traceback": [
      "\u001b[0;31m---------------------------------------------------------------------------\u001b[0m",
      "\u001b[0;31mModuleNotFoundError\u001b[0m                       Traceback (most recent call last)",
      "Input \u001b[0;32mIn [1]\u001b[0m, in \u001b[0;36m<cell line: 1>\u001b[0;34m()\u001b[0m\n\u001b[0;32m----> 1\u001b[0m \u001b[38;5;28;01mimport\u001b[39;00m \u001b[38;5;21;01mduckdb\u001b[39;00m\n\u001b[1;32m      2\u001b[0m con \u001b[38;5;241m=\u001b[39m duckdb\u001b[38;5;241m.\u001b[39mconnect()\n",
      "\u001b[0;31mModuleNotFoundError\u001b[0m: No module named 'duckdb'"
     ]
    }
   ],
   "source": [
    "import duckdb\n",
    "con = duckdb.connect();"
   ]
  },
  {
   "cell_type": "code",
   "execution_count": 2,
   "id": "7780107b",
   "metadata": {},
   "outputs": [
    {
     "name": "stdout",
     "output_type": "stream",
     "text": [
      "Collecting duckdb==0.8.1\n",
      "  Downloading duckdb-0.8.1-cp39-cp39-macosx_10_9_x86_64.whl (14.7 MB)\n",
      "\u001b[K     |████████████████████████████████| 14.7 MB 9.7 MB/s eta 0:00:01\n",
      "\u001b[?25hInstalling collected packages: duckdb\n",
      "Successfully installed duckdb-0.8.1\n",
      "Note: you may need to restart the kernel to use updated packages.\n"
     ]
    }
   ],
   "source": [
    "pip install duckdb==0.8.1"
   ]
  },
  {
   "cell_type": "code",
   "execution_count": 220,
   "id": "b1d195a6",
   "metadata": {},
   "outputs": [],
   "source": [
    "import duckdb\n",
    "con = duckdb.connect();"
   ]
  },
  {
   "cell_type": "code",
   "execution_count": 221,
   "id": "20e535b6",
   "metadata": {},
   "outputs": [],
   "source": [
    "con.execute(\"CREATE TABLE student (id INTEGER, name VARCHAR)\")\n",
    "con.execute(\"CREATE TABLE grade (student_id INTEGER, course VARCHAR, grade INTEGER)\")\n",
    "\n",
    "con.execute(\"INSERT INTO student VALUES (1, 'Alice')\")\n",
    "con.execute(\"INSERT INTO student VALUES (2, 'Bob')\")\n",
    "con.execute(\"INSERT INTO student VALUES (3, 'Charlie')\")\n",
    "\n",
    "con.execute(\"INSERT INTO grade VALUES (1, 'Math', 90)\")\n",
    "con.execute(\"INSERT INTO grade VALUES (2, 'Math', 85)\")\n",
    "con.execute(\"INSERT INTO grade VALUES (3, 'Math', 95)\")\n",
    "\n",
    "for i in range(4, 1000004):\n",
    "    con.execute(f\"INSERT INTO student VALUES ({i}, '{i}')\")\n",
    "    \n",
    "for i in range(4, 100004):\n",
    "    con.execute(f\"INSERT INTO grade VALUES ({i},'Math','{i}')\")"
   ]
  },
  {
   "cell_type": "code",
   "execution_count": 222,
   "id": "bb4f3e77",
   "metadata": {
    "scrolled": true
   },
   "outputs": [
    {
     "name": "stdout",
     "output_type": "stream",
     "text": [
      "Execution time:0.014342069625854492 seconds\n",
      "Execution time:0.008423805236816406 seconds\n",
      "Execution time:0.005631923675537109 seconds\n",
      "Execution time:0.006696939468383789 seconds\n",
      "Execution time:0.006765127182006836 seconds\n",
      "Execution time:0.0066471099853515625 seconds\n",
      "Execution time:0.005798816680908203 seconds\n",
      "Execution time:0.007241964340209961 seconds\n",
      "Execution time:0.006591796875 seconds\n",
      "Execution time:0.0059392452239990234 seconds\n"
     ]
    }
   ],
   "source": [
    "import time\n",
    "for i in range(10):\n",
    "    start_time = time.time()\n",
    "    results = con.execute(\"\"\"\n",
    "        SELECT student.id, student.name, grade.course, grade.grade\n",
    "        FROM student\n",
    "        JOIN grade\n",
    "        ON student.id = grade.student_id;\n",
    "    \"\"\")\n",
    "    end_time = time.time()\n",
    "#     for row in results.fetchall():\n",
    "#         print(row)\n",
    "    print(f\"Execution time:{end_time -start_time} seconds\")"
   ]
  },
  {
   "cell_type": "code",
   "execution_count": 223,
   "id": "37f6d982",
   "metadata": {},
   "outputs": [
    {
     "name": "stdout",
     "output_type": "stream",
     "text": [
      "Execution time:0.007193088531494141 seconds\n",
      "Execution time:0.007668018341064453 seconds\n",
      "Execution time:0.0069580078125 seconds\n",
      "Execution time:0.007002830505371094 seconds\n",
      "Execution time:0.006938934326171875 seconds\n",
      "Execution time:0.006204843521118164 seconds\n",
      "Execution time:0.0061261653900146484 seconds\n",
      "Execution time:0.005796909332275391 seconds\n",
      "Execution time:0.006094932556152344 seconds\n",
      "Execution time:0.007081031799316406 seconds\n"
     ]
    }
   ],
   "source": [
    "import time\n",
    "for i in range(10):\n",
    "    start_time = time.time()\n",
    "    results = con.execute(\"\"\"\n",
    "        SELECT /*+ HINT('mysql','STRAIGHT_JOIN') */ student.id, student.name, grade.course, grade.grade\n",
    "        FROM student, grade\n",
    "        WHERE student.id = grade.student_id;\n",
    "    \"\"\")\n",
    "    end_time = time.time()\n",
    "\n",
    "#     for row in results.fetchall():\n",
    "#         print(row)\n",
    "    print(f\"Execution time:{end_time -start_time} seconds\")"
   ]
  },
  {
   "cell_type": "code",
   "execution_count": 224,
   "id": "d16461b5",
   "metadata": {},
   "outputs": [
    {
     "name": "stdout",
     "output_type": "stream",
     "text": [
      "Execution time:0.008859872817993164 seconds\n",
      "Execution time:0.006368160247802734 seconds\n",
      "Execution time:0.0074770450592041016 seconds\n",
      "Execution time:0.005666971206665039 seconds\n",
      "Execution time:0.008150100708007812 seconds\n",
      "Execution time:0.005881071090698242 seconds\n",
      "Execution time:0.005774021148681641 seconds\n",
      "Execution time:0.00680088996887207 seconds\n",
      "Execution time:0.0058476924896240234 seconds\n",
      "Execution time:0.008647918701171875 seconds\n"
     ]
    }
   ],
   "source": [
    "import time\n",
    "for i in range(10):\n",
    "    start_time = time.time()\n",
    "    results = con.execute(\"\"\"\n",
    "        SELECT /*+ HINT('mysql','HASH_JOIN') */ student.id, student.name, grade.course, grade.grade\n",
    "        FROM student, grade\n",
    "        WHERE student.id = grade.student_id;\n",
    "    \"\"\")\n",
    "    end_time = time.time()\n",
    "\n",
    "    # for row in results.fetchall():\n",
    "    #     print(row)\n",
    "    print(f\"Execution time:{end_time -start_time} seconds\")"
   ]
  },
  {
   "cell_type": "code",
   "execution_count": null,
   "id": "e5e97555",
   "metadata": {},
   "outputs": [],
   "source": []
  },
  {
   "cell_type": "code",
   "execution_count": null,
   "id": "01a0ccec",
   "metadata": {},
   "outputs": [],
   "source": []
  },
  {
   "cell_type": "code",
   "execution_count": null,
   "id": "baa70299",
   "metadata": {},
   "outputs": [],
   "source": []
  }
 ],
 "metadata": {
  "kernelspec": {
   "display_name": "Python 3 (ipykernel)",
   "language": "python",
   "name": "python3"
  },
  "language_info": {
   "codemirror_mode": {
    "name": "ipython",
    "version": 3
   },
   "file_extension": ".py",
   "mimetype": "text/x-python",
   "name": "python",
   "nbconvert_exporter": "python",
   "pygments_lexer": "ipython3",
   "version": "3.9.12"
  }
 },
 "nbformat": 4,
 "nbformat_minor": 5
}
